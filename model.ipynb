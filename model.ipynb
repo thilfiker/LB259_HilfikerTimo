{
 "cells": [
  {
   "cell_type": "markdown",
   "id": "85d217cd",
   "metadata": {},
   "source": [
    "Bevor ich mit der Aufgabe begonnen habe, habe ich mein CSV noch bearbeitet, damit die Spalten welche ich benutze alle nummerische\n",
    "Werte enthalten und keine Strings. Dazu habe ich in einer Textdatei mit dem Namen Legende auch eine Legende geschrieben. Ebenfalls habe ich den\n",
    "Datensatz noch etwas angepasst, damit ich die Vorhersagae etwas besser treffen kann. Ich habe geändert, dass nur noch Spiele\n",
    "der Weltmeisterschaft, der Europameisterschaft und Freundschaftsspiele drinn sind."
   ]
  },
  {
   "cell_type": "code",
   "execution_count": 22,
   "id": "85de271d",
   "metadata": {},
   "outputs": [],
   "source": [
    "import pandas as pd\n",
    "DatasetFootball = pd.read_csv(\"Datensatz.csv\", on_bad_lines=\"skip\", sep=\";\")"
   ]
  },
  {
   "cell_type": "code",
   "execution_count": 26,
   "id": "7689a450",
   "metadata": {},
   "outputs": [
    {
     "data": {
      "text/html": [
       "<div>\n",
       "<style scoped>\n",
       "    .dataframe tbody tr th:only-of-type {\n",
       "        vertical-align: middle;\n",
       "    }\n",
       "\n",
       "    .dataframe tbody tr th {\n",
       "        vertical-align: top;\n",
       "    }\n",
       "\n",
       "    .dataframe thead th {\n",
       "        text-align: right;\n",
       "    }\n",
       "</style>\n",
       "<table border=\"1\" class=\"dataframe\">\n",
       "  <thead>\n",
       "    <tr style=\"text-align: right;\">\n",
       "      <th></th>\n",
       "      <th>neutral</th>\n",
       "      <th>tournament</th>\n",
       "    </tr>\n",
       "  </thead>\n",
       "  <tbody>\n",
       "    <tr>\n",
       "      <th>0</th>\n",
       "      <td>1</td>\n",
       "      <td>0</td>\n",
       "    </tr>\n",
       "    <tr>\n",
       "      <th>1</th>\n",
       "      <td>1</td>\n",
       "      <td>0</td>\n",
       "    </tr>\n",
       "    <tr>\n",
       "      <th>2</th>\n",
       "      <td>1</td>\n",
       "      <td>0</td>\n",
       "    </tr>\n",
       "    <tr>\n",
       "      <th>3</th>\n",
       "      <td>1</td>\n",
       "      <td>0</td>\n",
       "    </tr>\n",
       "    <tr>\n",
       "      <th>4</th>\n",
       "      <td>1</td>\n",
       "      <td>0</td>\n",
       "    </tr>\n",
       "  </tbody>\n",
       "</table>\n",
       "</div>"
      ],
      "text/plain": [
       "   neutral  tournament\n",
       "0        1           0\n",
       "1        1           0\n",
       "2        1           0\n",
       "3        1           0\n",
       "4        1           0"
      ]
     },
     "execution_count": 26,
     "metadata": {},
     "output_type": "execute_result"
    }
   ],
   "source": [
    "X = DatasetFootball[[\"neutral\", \"tournament\"]]\n",
    "y = DatasetFootball[[\"resultHome\"]]\n",
    "X.head()"
   ]
  },
  {
   "cell_type": "code",
   "execution_count": 27,
   "id": "5911a953",
   "metadata": {},
   "outputs": [
    {
     "data": {
      "text/plain": [
       "(14810, 3703)"
      ]
     },
     "execution_count": 27,
     "metadata": {},
     "output_type": "execute_result"
    }
   ],
   "source": [
    "from sklearn.model_selection import train_test_split\n",
    "\n",
    "X_train, X_test, y_train, y_test = train_test_split(\n",
    "   X, y, test_size = 0.2, random_state = 42\n",
    ")\n",
    "\n",
    "len(X_train), len(X_test)"
   ]
  },
  {
   "cell_type": "code",
   "execution_count": 28,
   "id": "46669981",
   "metadata": {},
   "outputs": [
    {
     "name": "stdout",
     "output_type": "stream",
     "text": [
      "Nearest Neighbors 0.28\n",
      "Stochastic Gradient Descent 0.46\n",
      "Linear SVM 0.46\n",
      "Decision Tree 0.46\n",
      "Random Forest 0.46\n",
      "Neural Net 0.46\n",
      "Naive Bayes 0.45\n",
      "LDA 0.46\n"
     ]
    }
   ],
   "source": [
    "from sklearn.neural_network import MLPClassifier\n",
    "from sklearn.neighbors import KNeighborsClassifier\n",
    "from sklearn.linear_model import SGDClassifier\n",
    "from sklearn.svm import SVC\n",
    "from sklearn.tree import DecisionTreeClassifier\n",
    "from sklearn.ensemble import RandomForestClassifier\n",
    "from sklearn.naive_bayes import GaussianNB\n",
    "from sklearn.discriminant_analysis import LinearDiscriminantAnalysis\n",
    "\n",
    "algorithms = {\n",
    "    \"Nearest Neighbors\" : KNeighborsClassifier(3),\n",
    "    \"Stochastic Gradient Descent\" : SGDClassifier(),\n",
    "    \"Linear SVM\" : SVC(kernel=\"linear\", C=0.025),\n",
    "    \"Decision Tree\" : DecisionTreeClassifier(max_depth=5),\n",
    "    \"Random Forest\" : RandomForestClassifier(max_depth=5, n_estimators=10, max_features=1),\n",
    "    \"Neural Net\" : MLPClassifier(alpha=1, max_iter=1000),\n",
    "    \"Naive Bayes\" : GaussianNB(),\n",
    "    \"LDA\" : LinearDiscriminantAnalysis(),\n",
    "}\n",
    "\n",
    "\n",
    "for name, algorithm in algorithms.items():\n",
    "\n",
    "    algorithm.fit(X_train, y_train.values.ravel())\n",
    "\n",
    "    score = algorithm.score(X_test, y_test)\n",
    "    print(name, round(score,2))"
   ]
  },
  {
   "cell_type": "code",
   "execution_count": 62,
   "id": "eb58f798",
   "metadata": {},
   "outputs": [
    {
     "data": {
      "text/plain": [
       "DecisionTreeClassifier(max_depth=5)"
      ]
     },
     "execution_count": 62,
     "metadata": {},
     "output_type": "execute_result"
    }
   ],
   "source": [
    "import joblib\n",
    "joblib.dump(algorithms[\"Decision Tree\"], 'DatasetFootball_decision_tree.joblib')\n",
    "best_model = joblib.load('DatasetFootball_decision_tree.joblib')\n",
    "best_model"
   ]
  },
  {
   "cell_type": "code",
   "execution_count": 33,
   "id": "87f71fb6",
   "metadata": {},
   "outputs": [
    {
     "data": {
      "text/plain": [
       "DecisionTreeClassifier(max_depth=5)"
      ]
     },
     "execution_count": 33,
     "metadata": {},
     "output_type": "execute_result"
    }
   ],
   "source": [
    "import joblib\n",
    "joblib.dump(algorithms[\"Decision Tree\"], 'DatasetFootball_decision_Tree.joblib')\n",
    "best_model = joblib.load('DatasetFootball_decision_Tree.joblib')\n",
    "best_model"
   ]
  },
  {
   "cell_type": "markdown",
   "id": "ea666a3d",
   "metadata": {},
   "source": [
    "Ich habe mich für den Algorithmus \"Decision Tree\" entschieden, es gab mehrere Alghorithmen, die eine 46% Chance auf eine korrekte Vorhersage hatten. Da ich mich persönlich mit dem Decision Tree am besten auskenne, habe ich mich für ihn entschieden. Ich hätte z.B. auch Random Forest nehmen können, der hat die gleiche Erfolgschance, aber damit kenne ich mich nicht so gut aus."
   ]
  },
  {
   "cell_type": "code",
   "execution_count": 74,
   "id": "00581af7",
   "metadata": {},
   "outputs": [
    {
     "data": {
      "text/html": [
       "<div>\n",
       "<style scoped>\n",
       "    .dataframe tbody tr th:only-of-type {\n",
       "        vertical-align: middle;\n",
       "    }\n",
       "\n",
       "    .dataframe tbody tr th {\n",
       "        vertical-align: top;\n",
       "    }\n",
       "\n",
       "    .dataframe thead th {\n",
       "        text-align: right;\n",
       "    }\n",
       "</style>\n",
       "<table border=\"1\" class=\"dataframe\">\n",
       "  <thead>\n",
       "    <tr style=\"text-align: right;\">\n",
       "      <th></th>\n",
       "      <th>neutral</th>\n",
       "      <th>tournament</th>\n",
       "    </tr>\n",
       "  </thead>\n",
       "  <tbody>\n",
       "    <tr>\n",
       "      <th>0</th>\n",
       "      <td>1</td>\n",
       "      <td>0</td>\n",
       "    </tr>\n",
       "  </tbody>\n",
       "</table>\n",
       "</div>"
      ],
      "text/plain": [
       "   neutral  tournament\n",
       "0        1           0"
      ]
     },
     "execution_count": 74,
     "metadata": {},
     "output_type": "execute_result"
    }
   ],
   "source": [
    "Vorhersage1 = pd.DataFrame([[1, 0]], columns=X_train.columns)\n",
    "Vorhersage1.head()"
   ]
  },
  {
   "cell_type": "code",
   "execution_count": 75,
   "id": "1e4a0f02",
   "metadata": {},
   "outputs": [
    {
     "name": "stdout",
     "output_type": "stream",
     "text": [
      "Die Heimmanschaft macht einen Sieg\n"
     ]
    }
   ],
   "source": [
    "predictions = best_model.predict(pd.concat([Vorhersage1]))\n",
    "for person, prediction in zip([\"Die Heimmanschaft macht\"], predictions):\n",
    "    print(f\"{person} {'einen Sieg' if prediction == 1  else 'kein Sieg'}\")"
   ]
  },
  {
   "cell_type": "code",
   "execution_count": 76,
   "id": "604024bb",
   "metadata": {},
   "outputs": [
    {
     "data": {
      "text/html": [
       "<div>\n",
       "<style scoped>\n",
       "    .dataframe tbody tr th:only-of-type {\n",
       "        vertical-align: middle;\n",
       "    }\n",
       "\n",
       "    .dataframe tbody tr th {\n",
       "        vertical-align: top;\n",
       "    }\n",
       "\n",
       "    .dataframe thead th {\n",
       "        text-align: right;\n",
       "    }\n",
       "</style>\n",
       "<table border=\"1\" class=\"dataframe\">\n",
       "  <thead>\n",
       "    <tr style=\"text-align: right;\">\n",
       "      <th></th>\n",
       "      <th>neutral</th>\n",
       "      <th>tournament</th>\n",
       "    </tr>\n",
       "  </thead>\n",
       "  <tbody>\n",
       "    <tr>\n",
       "      <th>0</th>\n",
       "      <td>0</td>\n",
       "      <td>0</td>\n",
       "    </tr>\n",
       "  </tbody>\n",
       "</table>\n",
       "</div>"
      ],
      "text/plain": [
       "   neutral  tournament\n",
       "0        0           0"
      ]
     },
     "execution_count": 76,
     "metadata": {},
     "output_type": "execute_result"
    }
   ],
   "source": [
    "Vorhersage2 = pd.DataFrame([[0, 0]], columns=X_train.columns)\n",
    "Vorhersage2.head()"
   ]
  },
  {
   "cell_type": "code",
   "execution_count": 77,
   "id": "43bb20e8",
   "metadata": {},
   "outputs": [
    {
     "name": "stdout",
     "output_type": "stream",
     "text": [
      "Die Heimmanschaft macht einen Sieg\n"
     ]
    }
   ],
   "source": [
    "predictions = best_model.predict(pd.concat([Vorhersage]))\n",
    "for person, prediction in zip([\"Die Heimmanschaft macht\"], predictions):\n",
    "    print(f\"{person} {'einen Sieg' if prediction == 1  else 'kein Sieg '}\")"
   ]
  },
  {
   "cell_type": "code",
   "execution_count": 78,
   "id": "f1c2231e",
   "metadata": {},
   "outputs": [
    {
     "data": {
      "text/html": [
       "<div>\n",
       "<style scoped>\n",
       "    .dataframe tbody tr th:only-of-type {\n",
       "        vertical-align: middle;\n",
       "    }\n",
       "\n",
       "    .dataframe tbody tr th {\n",
       "        vertical-align: top;\n",
       "    }\n",
       "\n",
       "    .dataframe thead th {\n",
       "        text-align: right;\n",
       "    }\n",
       "</style>\n",
       "<table border=\"1\" class=\"dataframe\">\n",
       "  <thead>\n",
       "    <tr style=\"text-align: right;\">\n",
       "      <th></th>\n",
       "      <th>neutral</th>\n",
       "      <th>tournament</th>\n",
       "    </tr>\n",
       "  </thead>\n",
       "  <tbody>\n",
       "    <tr>\n",
       "      <th>0</th>\n",
       "      <td>0</td>\n",
       "      <td>1</td>\n",
       "    </tr>\n",
       "  </tbody>\n",
       "</table>\n",
       "</div>"
      ],
      "text/plain": [
       "   neutral  tournament\n",
       "0        0           1"
      ]
     },
     "execution_count": 78,
     "metadata": {},
     "output_type": "execute_result"
    }
   ],
   "source": [
    "Vorhersage3 = pd.DataFrame([[0, 1]], columns=X_train.columns)\n",
    "Vorhersage3.head()"
   ]
  },
  {
   "cell_type": "code",
   "execution_count": 79,
   "id": "6e195ee6",
   "metadata": {},
   "outputs": [
    {
     "name": "stdout",
     "output_type": "stream",
     "text": [
      "Die Heimmanschaft macht einen Sieg \n"
     ]
    }
   ],
   "source": [
    "predictions = best_model.predict(pd.concat([Vorhersage]))\n",
    "for person, prediction in zip([\"Die Heimmanschaft macht\"], predictions):\n",
    "    print(f\"{person} {'einen Sieg ' if prediction == 1  else 'kein Sieg'}\")"
   ]
  },
  {
   "cell_type": "code",
   "execution_count": 80,
   "id": "d5d73132",
   "metadata": {},
   "outputs": [
    {
     "data": {
      "text/html": [
       "<div>\n",
       "<style scoped>\n",
       "    .dataframe tbody tr th:only-of-type {\n",
       "        vertical-align: middle;\n",
       "    }\n",
       "\n",
       "    .dataframe tbody tr th {\n",
       "        vertical-align: top;\n",
       "    }\n",
       "\n",
       "    .dataframe thead th {\n",
       "        text-align: right;\n",
       "    }\n",
       "</style>\n",
       "<table border=\"1\" class=\"dataframe\">\n",
       "  <thead>\n",
       "    <tr style=\"text-align: right;\">\n",
       "      <th></th>\n",
       "      <th>neutral</th>\n",
       "      <th>tournament</th>\n",
       "    </tr>\n",
       "  </thead>\n",
       "  <tbody>\n",
       "    <tr>\n",
       "      <th>0</th>\n",
       "      <td>1</td>\n",
       "      <td>2</td>\n",
       "    </tr>\n",
       "  </tbody>\n",
       "</table>\n",
       "</div>"
      ],
      "text/plain": [
       "   neutral  tournament\n",
       "0        1           2"
      ]
     },
     "execution_count": 80,
     "metadata": {},
     "output_type": "execute_result"
    }
   ],
   "source": [
    "Vorhersage4 = pd.DataFrame([[1, 2]], columns=X_train.columns)\n",
    "Vorhersage4.head()"
   ]
  },
  {
   "cell_type": "code",
   "execution_count": 81,
   "id": "9b0bc212",
   "metadata": {},
   "outputs": [
    {
     "name": "stdout",
     "output_type": "stream",
     "text": [
      "Die Heimmanschaft macht einen Sieg \n"
     ]
    }
   ],
   "source": [
    "predictions = best_model.predict(pd.concat([Vorhersage4]))\n",
    "for person, prediction in zip([\"Die Heimmanschaft macht\"], predictions):\n",
    "    print(f\"{person} {'einen Sieg ' if prediction == 1  else 'kein Sieg'}\")"
   ]
  },
  {
   "cell_type": "markdown",
   "id": "88d42d8e",
   "metadata": {},
   "source": [
    "Bei meiner Vorhersage gewinnt in diversen Snezarien immer die Heimmanschaft. Sowohl auf neutralem Boden wie auch auf nicht neutralem Boden komme mein Algorithmus auf das Ergebnis, dass die Heimmanschaft gewinnt. Das Turnier dabei auch keinen Unterschied sowohl bei der WM der EM und bei den Freundschaftsspielen komme ich auf das gleiche Ergebniss. Leider ist mein Algorithmus aufgrund weniger Parametern nich ganz so genau und ich kann nicht sagen, ob alles stimmt."
   ]
  }
 ],
 "metadata": {
  "kernelspec": {
   "display_name": "Python 3 (ipykernel)",
   "language": "python",
   "name": "python3"
  },
  "language_info": {
   "codemirror_mode": {
    "name": "ipython",
    "version": 3
   },
   "file_extension": ".py",
   "mimetype": "text/x-python",
   "name": "python",
   "nbconvert_exporter": "python",
   "pygments_lexer": "ipython3",
   "version": "3.10.2"
  }
 },
 "nbformat": 4,
 "nbformat_minor": 5
}
